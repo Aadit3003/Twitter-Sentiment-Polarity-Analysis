{
  "cells": [
    {
      "cell_type": "markdown",
      "metadata": {
        "id": "HLMuxq7fhI0W"
      },
      "source": [
        "# **Twitter Sentiment Polarity Analysis using Naive Bayes**\n"
      ]
    },
    {
      "cell_type": "markdown",
      "metadata": {
        "id": "D5zx0D0OhGEw"
      },
      "source": [
        "## Import Libraries"
      ]
    },
    {
      "cell_type": "code",
      "execution_count": 1,
      "metadata": {
        "colab": {
          "base_uri": "https://localhost:8080/"
        },
        "id": "ouXI-LXLHnRM",
        "outputId": "9bce31d5-590c-4184-b17b-54b6f8e09cd8"
      },
      "outputs": [
        {
          "output_type": "stream",
          "name": "stdout",
          "text": [
            "[nltk_data] Downloading package stopwords to /root/nltk_data...\n",
            "[nltk_data]   Unzipping corpora/stopwords.zip.\n"
          ]
        }
      ],
      "source": [
        "import re \n",
        "import sys \n",
        "import numpy as np\n",
        "import pandas as pd\n",
        "import matplotlib.pyplot as plt \n",
        "from google.colab import drive\n",
        "import nltk \n",
        "nltk.download('stopwords')\n",
        "from nltk.corpus import stopwords\n",
        "from  nltk.stem import SnowballStemmer\n",
        "from sklearn.model_selection import train_test_split\n",
        "from sklearn.naive_bayes import MultinomialNB \n",
        "from sklearn.naive_bayes import BernoulliNB \n",
        "from sklearn.feature_selection import SelectKBest,chi2\n",
        "from sklearn.metrics import confusion_matrix\n",
        "from sklearn.feature_selection import mutual_info_classif as MIC \n",
        "from sklearn.utils import shuffle \n",
        "from prettytable import PrettyTable \n",
        "from sklearn.feature_extraction.text import TfidfVectorizer \n",
        "from sklearn.feature_extraction.text import CountVectorizer \n",
        "import random\n",
        "from sklearn.manifold import TSNE \n",
        "import scipy.sparse \n",
        "import joblib "
      ]
    },
    {
      "cell_type": "markdown",
      "metadata": {
        "id": "1eQ2khqVIghJ"
      },
      "source": [
        "## Import Dataset\n"
      ]
    },
    {
      "cell_type": "code",
      "execution_count": 2,
      "metadata": {
        "id": "hrqIX3lcIj6s"
      },
      "outputs": [],
      "source": [
        "# from google.colab import files\n",
        "# upload = files.upload()"
      ]
    },
    {
      "cell_type": "code",
      "execution_count": null,
      "metadata": {
        "colab": {
          "base_uri": "https://localhost:8080/"
        },
        "id": "oQhKEbfkkfFl",
        "outputId": "35841ff9-63b9-428f-b062-6680ee20d88a"
      },
      "outputs": [
        {
          "output_type": "stream",
          "name": "stdout",
          "text": [
            "mv: cannot stat 'kaggle.json': No such file or directory\n"
          ]
        }
      ],
      "source": [
        "!mkdir -p ~/.kaggle && mv kaggle.json ~/.kaggle/"
      ]
    },
    {
      "cell_type": "code",
      "execution_count": null,
      "metadata": {
        "colab": {
          "base_uri": "https://localhost:8080/"
        },
        "id": "LF7wWKcIjo14",
        "outputId": "9ed7802b-ca05-46ea-f236-a45abc815805"
      },
      "outputs": [
        {
          "output_type": "stream",
          "name": "stdout",
          "text": [
            "Traceback (most recent call last):\n",
            "  File \"/usr/local/bin/kaggle\", line 5, in <module>\n",
            "    from kaggle.cli import main\n",
            "  File \"/usr/local/lib/python3.7/dist-packages/kaggle/__init__.py\", line 23, in <module>\n",
            "    api.authenticate()\n",
            "  File \"/usr/local/lib/python3.7/dist-packages/kaggle/api/kaggle_api_extended.py\", line 166, in authenticate\n",
            "    self.config_file, self.config_dir))\n",
            "OSError: Could not find kaggle.json. Make sure it's located in /root/.kaggle. Or use the environment method.\n"
          ]
        }
      ],
      "source": [
        "! kaggle datasets download -d kazanova/sentiment140"
      ]
    },
    {
      "cell_type": "code",
      "execution_count": null,
      "metadata": {
        "colab": {
          "base_uri": "https://localhost:8080/"
        },
        "id": "5uPJK6MCkmEs",
        "outputId": "9937e580-191e-4776-8975-f6ffbb42caf4"
      },
      "outputs": [
        {
          "output_type": "stream",
          "name": "stdout",
          "text": [
            "unzip:  cannot find or open sentiment140.zip, sentiment140.zip.zip or sentiment140.zip.ZIP.\n"
          ]
        }
      ],
      "source": [
        "!unzip sentiment140.zip"
      ]
    },
    {
      "cell_type": "code",
      "execution_count": 3,
      "metadata": {
        "colab": {
          "base_uri": "https://localhost:8080/"
        },
        "id": "eGQAku2SqazT",
        "outputId": "fec21239-8eb4-4f04-ca06-df89ec16d6b5"
      },
      "outputs": [
        {
          "output_type": "stream",
          "name": "stdout",
          "text": [
            "Mounted at /content/gdrive\n"
          ]
        }
      ],
      "source": [
        "drive.mount('/content/gdrive')"
      ]
    },
    {
      "cell_type": "code",
      "execution_count": 4,
      "metadata": {
        "id": "zNYcOIIZlcui"
      },
      "outputs": [],
      "source": [
        "# dataframe = pd.read_csv('/content/gdrive/MyDrive/training.1600000.processed.noemoticon.csv',encoding =\"ISO-8859-1\",names=[\"target\", \"ids\", \"date\", \"flag\", \"user\", \"text\"])\n",
        "# dataframe.head()"
      ]
    },
    {
      "cell_type": "code",
      "execution_count": 5,
      "metadata": {
        "colab": {
          "base_uri": "https://localhost:8080/",
          "height": 206
        },
        "id": "CjDFlX02-xwD",
        "outputId": "4e0946a6-2f32-4c4b-faf8-4b1bb7639b3f"
      },
      "outputs": [
        {
          "output_type": "execute_result",
          "data": {
            "text/plain": [
              "   target         ids                          date      flag  \\\n",
              "0       0  1467810369  Mon Apr 06 22:19:45 PDT 2009  NO_QUERY   \n",
              "1       0  1467810672  Mon Apr 06 22:19:49 PDT 2009  NO_QUERY   \n",
              "2       4  1467810917  Mon Apr 06 22:19:53 PDT 2009  NO_QUERY   \n",
              "3       0  1467811184  Mon Apr 06 22:19:57 PDT 2009  NO_QUERY   \n",
              "4       0  1467811193  Mon Apr 06 22:19:57 PDT 2009  NO_QUERY   \n",
              "\n",
              "              user                                               text  \n",
              "0  _TheSpecialOne_  @switchfoot http://twitpic.com/2y1zl - Awww, t...  \n",
              "1    scotthamilton  is upset that he can't update his Facebook by ...  \n",
              "2         mattycus  @Kenichan I dived many times for the ball. Man...  \n",
              "3          ElleCTF    my whole body feels itchy and like its on fire   \n",
              "4           Karoli  @nationwideclass no, it's not behaving at all....  "
            ],
            "text/html": [
              "\n",
              "  <div id=\"df-21a6ce80-70ce-47a4-a7b4-c8c55e42b853\">\n",
              "    <div class=\"colab-df-container\">\n",
              "      <div>\n",
              "<style scoped>\n",
              "    .dataframe tbody tr th:only-of-type {\n",
              "        vertical-align: middle;\n",
              "    }\n",
              "\n",
              "    .dataframe tbody tr th {\n",
              "        vertical-align: top;\n",
              "    }\n",
              "\n",
              "    .dataframe thead th {\n",
              "        text-align: right;\n",
              "    }\n",
              "</style>\n",
              "<table border=\"1\" class=\"dataframe\">\n",
              "  <thead>\n",
              "    <tr style=\"text-align: right;\">\n",
              "      <th></th>\n",
              "      <th>target</th>\n",
              "      <th>ids</th>\n",
              "      <th>date</th>\n",
              "      <th>flag</th>\n",
              "      <th>user</th>\n",
              "      <th>text</th>\n",
              "    </tr>\n",
              "  </thead>\n",
              "  <tbody>\n",
              "    <tr>\n",
              "      <th>0</th>\n",
              "      <td>0</td>\n",
              "      <td>1467810369</td>\n",
              "      <td>Mon Apr 06 22:19:45 PDT 2009</td>\n",
              "      <td>NO_QUERY</td>\n",
              "      <td>_TheSpecialOne_</td>\n",
              "      <td>@switchfoot http://twitpic.com/2y1zl - Awww, t...</td>\n",
              "    </tr>\n",
              "    <tr>\n",
              "      <th>1</th>\n",
              "      <td>0</td>\n",
              "      <td>1467810672</td>\n",
              "      <td>Mon Apr 06 22:19:49 PDT 2009</td>\n",
              "      <td>NO_QUERY</td>\n",
              "      <td>scotthamilton</td>\n",
              "      <td>is upset that he can't update his Facebook by ...</td>\n",
              "    </tr>\n",
              "    <tr>\n",
              "      <th>2</th>\n",
              "      <td>4</td>\n",
              "      <td>1467810917</td>\n",
              "      <td>Mon Apr 06 22:19:53 PDT 2009</td>\n",
              "      <td>NO_QUERY</td>\n",
              "      <td>mattycus</td>\n",
              "      <td>@Kenichan I dived many times for the ball. Man...</td>\n",
              "    </tr>\n",
              "    <tr>\n",
              "      <th>3</th>\n",
              "      <td>0</td>\n",
              "      <td>1467811184</td>\n",
              "      <td>Mon Apr 06 22:19:57 PDT 2009</td>\n",
              "      <td>NO_QUERY</td>\n",
              "      <td>ElleCTF</td>\n",
              "      <td>my whole body feels itchy and like its on fire</td>\n",
              "    </tr>\n",
              "    <tr>\n",
              "      <th>4</th>\n",
              "      <td>0</td>\n",
              "      <td>1467811193</td>\n",
              "      <td>Mon Apr 06 22:19:57 PDT 2009</td>\n",
              "      <td>NO_QUERY</td>\n",
              "      <td>Karoli</td>\n",
              "      <td>@nationwideclass no, it's not behaving at all....</td>\n",
              "    </tr>\n",
              "  </tbody>\n",
              "</table>\n",
              "</div>\n",
              "      <button class=\"colab-df-convert\" onclick=\"convertToInteractive('df-21a6ce80-70ce-47a4-a7b4-c8c55e42b853')\"\n",
              "              title=\"Convert this dataframe to an interactive table.\"\n",
              "              style=\"display:none;\">\n",
              "        \n",
              "  <svg xmlns=\"http://www.w3.org/2000/svg\" height=\"24px\"viewBox=\"0 0 24 24\"\n",
              "       width=\"24px\">\n",
              "    <path d=\"M0 0h24v24H0V0z\" fill=\"none\"/>\n",
              "    <path d=\"M18.56 5.44l.94 2.06.94-2.06 2.06-.94-2.06-.94-.94-2.06-.94 2.06-2.06.94zm-11 1L8.5 8.5l.94-2.06 2.06-.94-2.06-.94L8.5 2.5l-.94 2.06-2.06.94zm10 10l.94 2.06.94-2.06 2.06-.94-2.06-.94-.94-2.06-.94 2.06-2.06.94z\"/><path d=\"M17.41 7.96l-1.37-1.37c-.4-.4-.92-.59-1.43-.59-.52 0-1.04.2-1.43.59L10.3 9.45l-7.72 7.72c-.78.78-.78 2.05 0 2.83L4 21.41c.39.39.9.59 1.41.59.51 0 1.02-.2 1.41-.59l7.78-7.78 2.81-2.81c.8-.78.8-2.07 0-2.86zM5.41 20L4 18.59l7.72-7.72 1.47 1.35L5.41 20z\"/>\n",
              "  </svg>\n",
              "      </button>\n",
              "      \n",
              "  <style>\n",
              "    .colab-df-container {\n",
              "      display:flex;\n",
              "      flex-wrap:wrap;\n",
              "      gap: 12px;\n",
              "    }\n",
              "\n",
              "    .colab-df-convert {\n",
              "      background-color: #E8F0FE;\n",
              "      border: none;\n",
              "      border-radius: 50%;\n",
              "      cursor: pointer;\n",
              "      display: none;\n",
              "      fill: #1967D2;\n",
              "      height: 32px;\n",
              "      padding: 0 0 0 0;\n",
              "      width: 32px;\n",
              "    }\n",
              "\n",
              "    .colab-df-convert:hover {\n",
              "      background-color: #E2EBFA;\n",
              "      box-shadow: 0px 1px 2px rgba(60, 64, 67, 0.3), 0px 1px 3px 1px rgba(60, 64, 67, 0.15);\n",
              "      fill: #174EA6;\n",
              "    }\n",
              "\n",
              "    [theme=dark] .colab-df-convert {\n",
              "      background-color: #3B4455;\n",
              "      fill: #D2E3FC;\n",
              "    }\n",
              "\n",
              "    [theme=dark] .colab-df-convert:hover {\n",
              "      background-color: #434B5C;\n",
              "      box-shadow: 0px 1px 3px 1px rgba(0, 0, 0, 0.15);\n",
              "      filter: drop-shadow(0px 1px 2px rgba(0, 0, 0, 0.3));\n",
              "      fill: #FFFFFF;\n",
              "    }\n",
              "  </style>\n",
              "\n",
              "      <script>\n",
              "        const buttonEl =\n",
              "          document.querySelector('#df-21a6ce80-70ce-47a4-a7b4-c8c55e42b853 button.colab-df-convert');\n",
              "        buttonEl.style.display =\n",
              "          google.colab.kernel.accessAllowed ? 'block' : 'none';\n",
              "\n",
              "        async function convertToInteractive(key) {\n",
              "          const element = document.querySelector('#df-21a6ce80-70ce-47a4-a7b4-c8c55e42b853');\n",
              "          const dataTable =\n",
              "            await google.colab.kernel.invokeFunction('convertToInteractive',\n",
              "                                                     [key], {});\n",
              "          if (!dataTable) return;\n",
              "\n",
              "          const docLinkHtml = 'Like what you see? Visit the ' +\n",
              "            '<a target=\"_blank\" href=https://colab.research.google.com/notebooks/data_table.ipynb>data table notebook</a>'\n",
              "            + ' to learn more about interactive tables.';\n",
              "          element.innerHTML = '';\n",
              "          dataTable['output_type'] = 'display_data';\n",
              "          await google.colab.output.renderOutput(dataTable, element);\n",
              "          const docLink = document.createElement('div');\n",
              "          docLink.innerHTML = docLinkHtml;\n",
              "          element.appendChild(docLink);\n",
              "        }\n",
              "      </script>\n",
              "    </div>\n",
              "  </div>\n",
              "  "
            ]
          },
          "metadata": {},
          "execution_count": 5
        }
      ],
      "source": [
        "dataframe = pd.read_csv('/content/gdrive/MyDrive/sentiment140Updated.csv',encoding =\"ISO-8859-1\",names=[\"target\", \"ids\", \"date\", \"flag\", \"user\", \"text\"])\n",
        "dataframe.head()"
      ]
    },
    {
      "cell_type": "code",
      "execution_count": 6,
      "metadata": {
        "colab": {
          "base_uri": "https://localhost:8080/"
        },
        "id": "seL7lzqApAWV",
        "outputId": "d541ec11-d941-4913-de37-8407b1286fa0"
      },
      "outputs": [
        {
          "output_type": "execute_result",
          "data": {
            "text/plain": [
              "1600000"
            ]
          },
          "metadata": {},
          "execution_count": 6
        }
      ],
      "source": [
        "len(dataframe)"
      ]
    },
    {
      "cell_type": "code",
      "execution_count": 7,
      "metadata": {
        "id": "HQan-5TJob25"
      },
      "outputs": [],
      "source": [
        "dataframe = dataframe.loc[dataframe['target'].isin([0,4])]"
      ]
    },
    {
      "cell_type": "code",
      "execution_count": 8,
      "metadata": {
        "colab": {
          "base_uri": "https://localhost:8080/"
        },
        "id": "iYX5D2nOptS0",
        "outputId": "9f2a48a4-ece3-4c2c-c8ec-3309ff6cfc0a"
      },
      "outputs": [
        {
          "output_type": "execute_result",
          "data": {
            "text/plain": [
              "1600000"
            ]
          },
          "metadata": {},
          "execution_count": 8
        }
      ],
      "source": [
        "len(dataframe)"
      ]
    },
    {
      "cell_type": "code",
      "execution_count": 9,
      "metadata": {
        "id": "2eKdCXQzrdRJ"
      },
      "outputs": [],
      "source": [
        "dataframe = dataframe.drop(['ids', 'date', 'flag', 'user'], axis=1)\n",
        "dataframe['target'] = [1 if target == 4 else target for target in dataframe['target']]"
      ]
    },
    {
      "cell_type": "code",
      "execution_count": 10,
      "metadata": {
        "colab": {
          "base_uri": "https://localhost:8080/"
        },
        "id": "06wBeOjmtVPs",
        "outputId": "56874813-60bc-44a7-b0d6-43f3d967d2cc"
      },
      "outputs": [
        {
          "output_type": "execute_result",
          "data": {
            "text/plain": [
              "1    1220474\n",
              "0     379526\n",
              "Name: target, dtype: int64"
            ]
          },
          "metadata": {},
          "execution_count": 10
        }
      ],
      "source": [
        "dataframe[\"target\"].value_counts()"
      ]
    },
    {
      "cell_type": "code",
      "execution_count": 11,
      "metadata": {
        "id": "KN4VkbSJHWLA"
      },
      "outputs": [],
      "source": [
        "dataframe = shuffle(dataframe)"
      ]
    },
    {
      "cell_type": "code",
      "execution_count": 12,
      "metadata": {
        "colab": {
          "base_uri": "https://localhost:8080/",
          "height": 363
        },
        "id": "LtolKotsrFRS",
        "outputId": "563ad23a-ad62-4885-8de3-40b7219939c7"
      },
      "outputs": [
        {
          "output_type": "execute_result",
          "data": {
            "text/plain": [
              "         target                                               text\n",
              "873700        1  BBQ with wife and friends... it`s gonna be a g...\n",
              "1249886       1        @IndigoLife Thank you, it's a recent snap! \n",
              "788348        1  @tdwpband awe, i was supposed to go this year,...\n",
              "1098184       1  @sargedunn1  Yeah then you could send it to me...\n",
              "1582584       1  @gschan fortunately, I have.  love the new ava...\n",
              "515931        0  lost the battle to @PeterBurrowes1 !  Alone in...\n",
              "61530         1       Do you still think of me?? (I think of you) \n",
              "892615        1  anyone wanna grab a coffee at westfield this m...\n",
              "503403        0            Got be at work early in the morn...ugh \n",
              "237734        1  @lulliecarole i dont know. and don't ask about..."
            ],
            "text/html": [
              "\n",
              "  <div id=\"df-acdc3bb0-2d69-477d-aa8a-5e87f31b8ba0\">\n",
              "    <div class=\"colab-df-container\">\n",
              "      <div>\n",
              "<style scoped>\n",
              "    .dataframe tbody tr th:only-of-type {\n",
              "        vertical-align: middle;\n",
              "    }\n",
              "\n",
              "    .dataframe tbody tr th {\n",
              "        vertical-align: top;\n",
              "    }\n",
              "\n",
              "    .dataframe thead th {\n",
              "        text-align: right;\n",
              "    }\n",
              "</style>\n",
              "<table border=\"1\" class=\"dataframe\">\n",
              "  <thead>\n",
              "    <tr style=\"text-align: right;\">\n",
              "      <th></th>\n",
              "      <th>target</th>\n",
              "      <th>text</th>\n",
              "    </tr>\n",
              "  </thead>\n",
              "  <tbody>\n",
              "    <tr>\n",
              "      <th>873700</th>\n",
              "      <td>1</td>\n",
              "      <td>BBQ with wife and friends... it`s gonna be a g...</td>\n",
              "    </tr>\n",
              "    <tr>\n",
              "      <th>1249886</th>\n",
              "      <td>1</td>\n",
              "      <td>@IndigoLife Thank you, it's a recent snap!</td>\n",
              "    </tr>\n",
              "    <tr>\n",
              "      <th>788348</th>\n",
              "      <td>1</td>\n",
              "      <td>@tdwpband awe, i was supposed to go this year,...</td>\n",
              "    </tr>\n",
              "    <tr>\n",
              "      <th>1098184</th>\n",
              "      <td>1</td>\n",
              "      <td>@sargedunn1  Yeah then you could send it to me...</td>\n",
              "    </tr>\n",
              "    <tr>\n",
              "      <th>1582584</th>\n",
              "      <td>1</td>\n",
              "      <td>@gschan fortunately, I have.  love the new ava...</td>\n",
              "    </tr>\n",
              "    <tr>\n",
              "      <th>515931</th>\n",
              "      <td>0</td>\n",
              "      <td>lost the battle to @PeterBurrowes1 !  Alone in...</td>\n",
              "    </tr>\n",
              "    <tr>\n",
              "      <th>61530</th>\n",
              "      <td>1</td>\n",
              "      <td>Do you still think of me?? (I think of you)</td>\n",
              "    </tr>\n",
              "    <tr>\n",
              "      <th>892615</th>\n",
              "      <td>1</td>\n",
              "      <td>anyone wanna grab a coffee at westfield this m...</td>\n",
              "    </tr>\n",
              "    <tr>\n",
              "      <th>503403</th>\n",
              "      <td>0</td>\n",
              "      <td>Got be at work early in the morn...ugh</td>\n",
              "    </tr>\n",
              "    <tr>\n",
              "      <th>237734</th>\n",
              "      <td>1</td>\n",
              "      <td>@lulliecarole i dont know. and don't ask about...</td>\n",
              "    </tr>\n",
              "  </tbody>\n",
              "</table>\n",
              "</div>\n",
              "      <button class=\"colab-df-convert\" onclick=\"convertToInteractive('df-acdc3bb0-2d69-477d-aa8a-5e87f31b8ba0')\"\n",
              "              title=\"Convert this dataframe to an interactive table.\"\n",
              "              style=\"display:none;\">\n",
              "        \n",
              "  <svg xmlns=\"http://www.w3.org/2000/svg\" height=\"24px\"viewBox=\"0 0 24 24\"\n",
              "       width=\"24px\">\n",
              "    <path d=\"M0 0h24v24H0V0z\" fill=\"none\"/>\n",
              "    <path d=\"M18.56 5.44l.94 2.06.94-2.06 2.06-.94-2.06-.94-.94-2.06-.94 2.06-2.06.94zm-11 1L8.5 8.5l.94-2.06 2.06-.94-2.06-.94L8.5 2.5l-.94 2.06-2.06.94zm10 10l.94 2.06.94-2.06 2.06-.94-2.06-.94-.94-2.06-.94 2.06-2.06.94z\"/><path d=\"M17.41 7.96l-1.37-1.37c-.4-.4-.92-.59-1.43-.59-.52 0-1.04.2-1.43.59L10.3 9.45l-7.72 7.72c-.78.78-.78 2.05 0 2.83L4 21.41c.39.39.9.59 1.41.59.51 0 1.02-.2 1.41-.59l7.78-7.78 2.81-2.81c.8-.78.8-2.07 0-2.86zM5.41 20L4 18.59l7.72-7.72 1.47 1.35L5.41 20z\"/>\n",
              "  </svg>\n",
              "      </button>\n",
              "      \n",
              "  <style>\n",
              "    .colab-df-container {\n",
              "      display:flex;\n",
              "      flex-wrap:wrap;\n",
              "      gap: 12px;\n",
              "    }\n",
              "\n",
              "    .colab-df-convert {\n",
              "      background-color: #E8F0FE;\n",
              "      border: none;\n",
              "      border-radius: 50%;\n",
              "      cursor: pointer;\n",
              "      display: none;\n",
              "      fill: #1967D2;\n",
              "      height: 32px;\n",
              "      padding: 0 0 0 0;\n",
              "      width: 32px;\n",
              "    }\n",
              "\n",
              "    .colab-df-convert:hover {\n",
              "      background-color: #E2EBFA;\n",
              "      box-shadow: 0px 1px 2px rgba(60, 64, 67, 0.3), 0px 1px 3px 1px rgba(60, 64, 67, 0.15);\n",
              "      fill: #174EA6;\n",
              "    }\n",
              "\n",
              "    [theme=dark] .colab-df-convert {\n",
              "      background-color: #3B4455;\n",
              "      fill: #D2E3FC;\n",
              "    }\n",
              "\n",
              "    [theme=dark] .colab-df-convert:hover {\n",
              "      background-color: #434B5C;\n",
              "      box-shadow: 0px 1px 3px 1px rgba(0, 0, 0, 0.15);\n",
              "      filter: drop-shadow(0px 1px 2px rgba(0, 0, 0, 0.3));\n",
              "      fill: #FFFFFF;\n",
              "    }\n",
              "  </style>\n",
              "\n",
              "      <script>\n",
              "        const buttonEl =\n",
              "          document.querySelector('#df-acdc3bb0-2d69-477d-aa8a-5e87f31b8ba0 button.colab-df-convert');\n",
              "        buttonEl.style.display =\n",
              "          google.colab.kernel.accessAllowed ? 'block' : 'none';\n",
              "\n",
              "        async function convertToInteractive(key) {\n",
              "          const element = document.querySelector('#df-acdc3bb0-2d69-477d-aa8a-5e87f31b8ba0');\n",
              "          const dataTable =\n",
              "            await google.colab.kernel.invokeFunction('convertToInteractive',\n",
              "                                                     [key], {});\n",
              "          if (!dataTable) return;\n",
              "\n",
              "          const docLinkHtml = 'Like what you see? Visit the ' +\n",
              "            '<a target=\"_blank\" href=https://colab.research.google.com/notebooks/data_table.ipynb>data table notebook</a>'\n",
              "            + ' to learn more about interactive tables.';\n",
              "          element.innerHTML = '';\n",
              "          dataTable['output_type'] = 'display_data';\n",
              "          await google.colab.output.renderOutput(dataTable, element);\n",
              "          const docLink = document.createElement('div');\n",
              "          docLink.innerHTML = docLinkHtml;\n",
              "          element.appendChild(docLink);\n",
              "        }\n",
              "      </script>\n",
              "    </div>\n",
              "  </div>\n",
              "  "
            ]
          },
          "metadata": {},
          "execution_count": 12
        }
      ],
      "source": [
        "dataframe.head(10)"
      ]
    },
    {
      "cell_type": "markdown",
      "metadata": {
        "id": "gI9x14AGIkXH"
      },
      "source": [
        "## **Preprocessing**"
      ]
    },
    {
      "cell_type": "markdown",
      "metadata": {
        "id": "xphwDc5zjJzY"
      },
      "source": [
        "### Stop Words"
      ]
    },
    {
      "cell_type": "code",
      "execution_count": 13,
      "metadata": {
        "id": "ldvTQX5SkjMl"
      },
      "outputs": [],
      "source": [
        "stop_words = stopwords.words('english')\n",
        "stemmer = SnowballStemmer(\"english\")"
      ]
    },
    {
      "cell_type": "code",
      "execution_count": 14,
      "metadata": {
        "colab": {
          "base_uri": "https://localhost:8080/"
        },
        "id": "GEgRnvrQNmlV",
        "outputId": "633e3fbf-1deb-4940-d060-2d53492f2538"
      },
      "outputs": [
        {
          "output_type": "execute_result",
          "data": {
            "text/plain": [
              "['i', 'me', 'my', 'myself', 'we', 'our', 'ours', 'ourselves', 'you']"
            ]
          },
          "metadata": {},
          "execution_count": 14
        }
      ],
      "source": [
        "stop_words[0:9] # Write to file "
      ]
    },
    {
      "cell_type": "code",
      "execution_count": 15,
      "metadata": {
        "id": "o325GDomuoOU"
      },
      "outputs": [],
      "source": [
        "#dataframe[\"text\"] = dataframe[\"text\"].apply(lambda x: ' '.join([word for word in x.split() if word not in (stop_words)]))"
      ]
    },
    {
      "cell_type": "code",
      "execution_count": 16,
      "metadata": {
        "id": "s5MULj50InaI"
      },
      "outputs": [],
      "source": [
        "tweets = list(dataframe[\"text\"]) \n",
        "label = list(dataframe[\"target\"])"
      ]
    },
    {
      "cell_type": "code",
      "execution_count": 17,
      "metadata": {
        "id": "8N5nYi6oraL6"
      },
      "outputs": [],
      "source": [
        "# Remove tags and urls \n",
        "urlPattern = r\"((http://)[^ ]*|(https://)[^ ]*|( www\\.)[^ ]*)\"\n",
        "tagPattern       = '@[^\\s]+'\n",
        "# Also replacing three or more occurences of a letter with two occurences\n",
        "repititionPattern   = r\"(.)\\1\\1+\"\n",
        "repititionReplacePattern = r\"\\1\\1\"\n",
        "\n",
        "def preprocess(tweets,stem=False):\n",
        "  for i in range(len(tweets)): \n",
        "    tweet = tweets[i]\n",
        "    tweet = tweet.lower()\n",
        "    tweet = re.sub(urlPattern,'',tweet)\n",
        "    tweet = re.sub(tagPattern,'', tweet)\n",
        "    tweet = re.sub(r'#([^\\s]+)', r'\\1', tweet) #Remove the #\n",
        "    tweet = re.sub(\"[^a-zA-Z0-9]\", \" \", tweet)\n",
        "    tweet = re.sub(repititionPattern,repititionReplacePattern, tweet)   \n",
        "    words = []\n",
        "    for word in tweet.split(): \n",
        "      if (word != \" \" and  word  not in stop_words):\n",
        "        if stem:\n",
        "          words.append(stemmer.stem(word))\n",
        "        else:\n",
        "          words.append(word)\n",
        "    tweets[i] = \" \".join(words)\n",
        "  return tweets\n",
        "   "
      ]
    },
    {
      "cell_type": "markdown",
      "metadata": {
        "id": "3dw2umZcjSk5"
      },
      "source": [
        "### Stemming, remove URLs"
      ]
    },
    {
      "cell_type": "code",
      "execution_count": 18,
      "metadata": {
        "id": "gYigR_qxwQFF"
      },
      "outputs": [],
      "source": [
        "performStemming = False\n",
        "tweets = preprocess(tweets, performStemming)"
      ]
    },
    {
      "cell_type": "code",
      "execution_count": 19,
      "metadata": {
        "id": "lp19Mh4OsqUn",
        "colab": {
          "base_uri": "https://localhost:8080/"
        },
        "outputId": "010efcfd-aef2-42ee-dd29-88dc6508e5c8"
      },
      "outputs": [
        {
          "output_type": "execute_result",
          "data": {
            "text/plain": [
              "['bbq wife friends gonna great evening sure',\n",
              " 'thank recent snap',\n",
              " 'awe supposed go year sure',\n",
              " 'yeah could send bit time squander lol send bank detail lol haa',\n",
              " 'fortunately love new avatar green panda',\n",
              " 'lost battle alone office moment others prepare 4 another big ebay day tomo',\n",
              " 'still think think',\n",
              " 'anyone wanna grab coffee westfield morning',\n",
              " 'got work early morn ugh']"
            ]
          },
          "metadata": {},
          "execution_count": 19
        }
      ],
      "source": [
        "tweets[0:9] # Write to file "
      ]
    },
    {
      "cell_type": "markdown",
      "metadata": {
        "id": "WXFt4AF3wXa8"
      },
      "source": [
        "## **Feature extraction** (tf-idf vectorization)"
      ]
    },
    {
      "cell_type": "code",
      "execution_count": null,
      "metadata": {
        "id": "ex3UjcGywXDU"
      },
      "outputs": [],
      "source": [
        "# Code logic \n",
        "# Imported libraries were used instead of this code \n",
        "\n",
        "# vocabulary = [] \n",
        "# count = 0\n",
        "# for i in range(len(tweets)): \n",
        "#   for j in tweets[i].split(): \n",
        "#     if j not in vocabulary: \n",
        "#       vocabulary.append(j) \n",
        "#       count += 1 \n",
        "\n",
        "# vectors = [[0 for i in range(count)] for i in range(len(tweets))]\n",
        "# for i in range(len(tweets)): \n",
        "#   for j in range(count): \n",
        "#     vectors[i][j] = tweets[i].split().count(vocabulary[j]) "
      ]
    },
    {
      "cell_type": "code",
      "execution_count": 20,
      "metadata": {
        "id": "edLPXopeC1Py"
      },
      "outputs": [],
      "source": [
        "vectorizerM = TfidfVectorizer() "
      ]
    },
    {
      "cell_type": "code",
      "execution_count": 21,
      "metadata": {
        "id": "5ZqR8WAPl35F"
      },
      "outputs": [],
      "source": [
        "vectorizerB = CountVectorizer() # Use this for Bernoulli NB"
      ]
    },
    {
      "cell_type": "code",
      "execution_count": 22,
      "metadata": {
        "colab": {
          "base_uri": "https://localhost:8080/"
        },
        "id": "hgqhM7SsC6uW",
        "outputId": "f5c74357-98e3-49c4-f3b8-4c13706ccaa1"
      },
      "outputs": [
        {
          "output_type": "execute_result",
          "data": {
            "text/plain": [
              "CountVectorizer()"
            ]
          },
          "metadata": {},
          "execution_count": 22
        }
      ],
      "source": [
        "vectorizerM.fit(tweets)  \n",
        "vectorizerB.fit(tweets)"
      ]
    },
    {
      "cell_type": "code",
      "execution_count": 23,
      "metadata": {
        "colab": {
          "base_uri": "https://localhost:8080/"
        },
        "id": "rmFe8CqZTixO",
        "outputId": "847c5ba1-231f-4231-c706-389f7fbc8d60"
      },
      "outputs": [
        {
          "output_type": "stream",
          "name": "stdout",
          "text": [
            "('bbq', 27165)\n",
            "('wife', 251140)\n",
            "('friends', 88483)\n",
            "('gonna', 95770)\n",
            "('great', 97543)\n",
            "('evening', 77811)\n",
            "('sure', 220023)\n",
            "('thank', 226306)\n",
            "('recent', 187570)\n",
            "('snap', 209421)\n",
            "('awe', 22966)\n"
          ]
        }
      ],
      "source": [
        "A = vectorizerM.vocabulary_\n",
        "j = 0\n",
        "for i in A.items():\n",
        "  if j>10:\n",
        "    break\n",
        "  j = j+1\n",
        "  print(i)\n"
      ]
    },
    {
      "cell_type": "code",
      "execution_count": 24,
      "metadata": {
        "colab": {
          "base_uri": "https://localhost:8080/"
        },
        "id": "W9obpS0iRrrc",
        "outputId": "ba6cfbd2-027d-42b8-c641-c9333bbad883"
      },
      "outputs": [
        {
          "output_type": "execute_result",
          "data": {
            "text/plain": [
              "260131"
            ]
          },
          "metadata": {},
          "execution_count": 24
        }
      ],
      "source": [
        "len(vectorizerM.vocabulary_) "
      ]
    },
    {
      "cell_type": "code",
      "execution_count": 25,
      "metadata": {
        "id": "EUMY9ju4DBjn"
      },
      "outputs": [],
      "source": [
        "tweetsM = vectorizerM.transform(tweets) \n",
        "tweetsB = vectorizerB.transform(tweets)"
      ]
    },
    {
      "cell_type": "code",
      "execution_count": 26,
      "metadata": {
        "colab": {
          "base_uri": "https://localhost:8080/"
        },
        "id": "IeQo8j55GhPv",
        "outputId": "02851944-b220-451f-843d-fe687eda82de"
      },
      "outputs": [
        {
          "output_type": "execute_result",
          "data": {
            "text/plain": [
              "(1600000, 260131)"
            ]
          },
          "metadata": {},
          "execution_count": 26
        }
      ],
      "source": [
        "tweetsM.shape"
      ]
    },
    {
      "cell_type": "markdown",
      "metadata": {
        "id": "_QiejmKe1nLQ"
      },
      "source": [
        "## **Train-Test Split**"
      ]
    },
    {
      "cell_type": "code",
      "execution_count": 27,
      "metadata": {
        "id": "Vbkw-wPStVKu"
      },
      "outputs": [],
      "source": [
        "tweetsTrainM, tweetsTestM, labelsTrain, labelsTest = train_test_split(tweetsM, label, test_size = 0.1, random_state=0)"
      ]
    },
    {
      "cell_type": "code",
      "execution_count": 28,
      "metadata": {
        "id": "ZuIVSoRpo_BE"
      },
      "outputs": [],
      "source": [
        "tweetsTrainB, tweetsTestB, labelsTrain, labelsTest = train_test_split(tweetsB, label, test_size = 0.1, random_state=0)"
      ]
    },
    {
      "cell_type": "code",
      "execution_count": 29,
      "metadata": {
        "id": "XUFmxD9ItbPK",
        "colab": {
          "base_uri": "https://localhost:8080/"
        },
        "outputId": "0c7f1521-d7a0-41c8-c492-b23b5c4449d5"
      },
      "outputs": [
        {
          "output_type": "execute_result",
          "data": {
            "text/plain": [
              "(1440000, 260131)"
            ]
          },
          "metadata": {},
          "execution_count": 29
        }
      ],
      "source": [
        "tweetsTrainM.shape"
      ]
    },
    {
      "cell_type": "markdown",
      "metadata": {
        "id": "Mwhq37zdtO_y"
      },
      "source": [
        "## **Feature Selection**\n"
      ]
    },
    {
      "cell_type": "markdown",
      "metadata": {
        "id": "VTuQOyJRxquh"
      },
      "source": [
        "### *Chi-Square*\n",
        "\n"
      ]
    },
    {
      "cell_type": "code",
      "execution_count": 30,
      "metadata": {
        "id": "N0LAKpSrtioi"
      },
      "outputs": [],
      "source": [
        "chi2_features = SelectKBest(chi2,k=3000) \n",
        "X_train_chiM = chi2_features.fit_transform(tweetsTrainM,labelsTrain)\n",
        "X_test_chiM = chi2_features.transform(tweetsTestM)"
      ]
    },
    {
      "cell_type": "code",
      "execution_count": 31,
      "metadata": {
        "id": "f2E2pTt2pKy-"
      },
      "outputs": [],
      "source": [
        "chi2_features = SelectKBest(chi2,k=3000) \n",
        "X_train_chiB = chi2_features.fit_transform(tweetsTrainB,labelsTrain)\n",
        "X_test_chiB = chi2_features.transform(tweetsTestB)"
      ]
    },
    {
      "cell_type": "code",
      "execution_count": 32,
      "metadata": {
        "id": "ZUxLgjpgueXK",
        "colab": {
          "base_uri": "https://localhost:8080/"
        },
        "outputId": "7b0b4b2d-b9d3-4317-d44d-081c4b5da4f1"
      },
      "outputs": [
        {
          "output_type": "execute_result",
          "data": {
            "text/plain": [
              "<1440000x3000 sparse matrix of type '<class 'numpy.float64'>'\n",
              "\twith 5265373 stored elements in Compressed Sparse Row format>"
            ]
          },
          "metadata": {},
          "execution_count": 32
        }
      ],
      "source": [
        "X_train_chiM"
      ]
    },
    {
      "cell_type": "markdown",
      "metadata": {
        "id": "_bTI8V1Wx0so"
      },
      "source": [
        "### *Mutual Information*"
      ]
    },
    {
      "cell_type": "code",
      "execution_count": null,
      "metadata": {
        "id": "pUKnL8Dlx_QE"
      },
      "outputs": [],
      "source": [
        "# mi_score = MIC(tweetsTrain,labelsTrain)"
      ]
    },
    {
      "cell_type": "code",
      "execution_count": null,
      "metadata": {
        "id": "q1LwhMOa9_eQ"
      },
      "outputs": [],
      "source": [
        "# avg_score = sum(mi_score)/len(mi_score)\n",
        "# mi_score_selected_index = np.where(mi_score >avg_score)[0]\n",
        "# X_train_mi = tweetsTrain[:,mi_score_selected_index]\n",
        "# X_test_mi = tweetsTest[:,mi_score_selected_index]"
      ]
    },
    {
      "cell_type": "markdown",
      "metadata": {
        "id": "cOgGSPxJknbI"
      },
      "source": [
        "## **Visualization** \n",
        "*(TSNE is very time-consuming)*"
      ]
    },
    {
      "cell_type": "code",
      "execution_count": null,
      "metadata": {
        "id": "cQW9Y1qvlt2K"
      },
      "outputs": [],
      "source": [
        "tweets = X_test_chiM"
      ]
    },
    {
      "cell_type": "code",
      "execution_count": null,
      "metadata": {
        "id": "J-ounBMTl4lS"
      },
      "outputs": [],
      "source": [
        "def plot_Tweet_Embeddings(tweets, subset, dimensions):\n",
        "\n",
        "  # Shuffle indices too!\n",
        "  indexes = [i for i in range(tweets.shape[0])]\n",
        "  tweets, indexes = shuffle(tweets, indexes, random_state=0)\n",
        "\n",
        "  emb = TSNE(n_components=dimensions).fit_transform(tweets[0:subset])\n",
        "\n",
        "  x = emb[:subset, 0]\n",
        "  y = emb[:subset, 1]\n",
        "  if(dimensions ==3):\n",
        "    z = emb[:subset, 2]\n",
        "  colors = []\n",
        "  i = 0\n",
        "\n",
        "  for i in range(subset): \n",
        "    index = indexes[i]     \n",
        "    if (dataframe.iat[index,0]==1):\n",
        "      point_color = \"green\" # Positive Tweet\n",
        "    else:\n",
        "      point_color = \"red\" # Negative Tweet\n",
        "    colors.append(point_color)\n",
        "\n",
        "  plt.figure(figsize=(10,6),dpi=100)\n",
        "  plt.title(\"Tweet Representation space visualization using TSNE\")\n",
        "  if(dimensions == 3):\n",
        "    ax = plt.axes(projection='3d')\n",
        "    ax.scatter(x, y, z,color= colors, linewidth=0.5);\n",
        "  if(dimensions == 2):\n",
        "    plt.scatter(x, y, color =colors)\n",
        "  plt.show()\n"
      ]
    },
    {
      "cell_type": "code",
      "execution_count": null,
      "metadata": {
        "cellView": "form",
        "id": "FErKLCqB0Ygf",
        "colab": {
          "base_uri": "https://localhost:8080/",
          "height": 596
        },
        "outputId": "fe1b06c7-9116-49b5-e0e3-7408df4f36d0"
      },
      "outputs": [
        {
          "output_type": "stream",
          "name": "stderr",
          "text": [
            "/usr/local/lib/python3.7/dist-packages/sklearn/manifold/_t_sne.py:783: FutureWarning: The default initialization in TSNE will change from 'random' to 'pca' in 1.2.\n",
            "  FutureWarning,\n",
            "/usr/local/lib/python3.7/dist-packages/sklearn/manifold/_t_sne.py:793: FutureWarning: The default learning rate in TSNE will change from 200.0 to 'auto' in 1.2.\n",
            "  FutureWarning,\n",
            "/usr/local/lib/python3.7/dist-packages/ipykernel_launcher.py:27: MatplotlibDeprecationWarning: Adding an axes using the same arguments as a previous axes currently reuses the earlier instance.  In a future version, a new instance will always be created and returned.  Meanwhile, this warning can be suppressed, and the future behavior ensured, by passing a unique label to each axes instance.\n"
          ]
        },
        {
          "output_type": "display_data",
          "data": {
            "text/plain": [
              "<Figure size 1000x600 with 1 Axes>"
            ],
            "image/png": "[encoded data removed]"
          },
          "metadata": {
            "needs_background": "light"
          }
        }
      ],
      "source": [
        "#@title Visualize Tweet Representation Space { run: \"auto\" }\n",
        "Num_tweets = 200 #@param {type:\"slider\", min:100, max:6000, step:100}\n",
        "Dimensions = \"3D Plot\" #@param [\"2D Plot\", \"3D Plot\"]\n",
        "\n",
        "d = 2\n",
        "if(Dimensions == \"2D Plot\"):\n",
        "  d = 2\n",
        "elif(Dimensions == \"3D Plot\"):\n",
        "  d = 3\n",
        "plot_Tweet_Embeddings(tweetsM, subset= Num_tweets, dimensions=d)"
      ]
    },
    {
      "cell_type": "markdown",
      "metadata": {
        "id": "8n6xW0XzMZop"
      },
      "source": [
        "## **Naive Bayes Classifier System**"
      ]
    },
    {
      "cell_type": "markdown",
      "metadata": {
        "id": "edCJ45E1ime6"
      },
      "source": [
        "### Multinomial NB"
      ]
    },
    {
      "cell_type": "code",
      "execution_count": 33,
      "metadata": {
        "id": "89LGZVkvvZaG"
      },
      "outputs": [],
      "source": [
        "mBayesClassifier = MultinomialNB()"
      ]
    },
    {
      "cell_type": "code",
      "execution_count": 34,
      "metadata": {
        "id": "90oR13syvisz",
        "colab": {
          "base_uri": "https://localhost:8080/"
        },
        "outputId": "960e3ca0-8554-4912-b93e-2cc6f6a70504"
      },
      "outputs": [
        {
          "output_type": "execute_result",
          "data": {
            "text/plain": [
              "MultinomialNB()"
            ]
          },
          "metadata": {},
          "execution_count": 34
        }
      ],
      "source": [
        "mBayesClassifier.fit(tweetsTrainM, labelsTrain)"
      ]
    },
    {
      "cell_type": "code",
      "execution_count": 35,
      "metadata": {
        "id": "8pHr1Ur62dBQ",
        "colab": {
          "base_uri": "https://localhost:8080/"
        },
        "outputId": "1f5d12f5-f9fe-41a0-f203-d7effd01c928"
      },
      "outputs": [
        {
          "output_type": "execute_result",
          "data": {
            "text/plain": [
              "MultinomialNB()"
            ]
          },
          "metadata": {},
          "execution_count": 35
        }
      ],
      "source": [
        "mBayesClassifier_chi = MultinomialNB()\n",
        "mBayesClassifier_chi.fit(X_train_chiM, labelsTrain)"
      ]
    },
    {
      "cell_type": "markdown",
      "metadata": {
        "id": "H-B9CwbNisUc"
      },
      "source": [
        "### Bernoulli NB"
      ]
    },
    {
      "cell_type": "code",
      "execution_count": 36,
      "metadata": {
        "id": "1yAQC2QyJ-0Z"
      },
      "outputs": [],
      "source": [
        "bBayesClassifier = BernoulliNB(binarize = 1)"
      ]
    },
    {
      "cell_type": "code",
      "execution_count": 37,
      "metadata": {
        "id": "esRdQapeKCZ0",
        "colab": {
          "base_uri": "https://localhost:8080/"
        },
        "outputId": "c53cd0a5-e041-44e3-b3bf-d96e9d058d2f"
      },
      "outputs": [
        {
          "output_type": "execute_result",
          "data": {
            "text/plain": [
              "BernoulliNB(binarize=1)"
            ]
          },
          "metadata": {},
          "execution_count": 37
        }
      ],
      "source": [
        "bBayesClassifier.fit(tweetsTrainB, labelsTrain)"
      ]
    },
    {
      "cell_type": "code",
      "execution_count": 38,
      "metadata": {
        "id": "DNxIPUCN2luy",
        "colab": {
          "base_uri": "https://localhost:8080/"
        },
        "outputId": "23b93338-1b88-4b5d-e2b7-3c725d7564f2"
      },
      "outputs": [
        {
          "output_type": "execute_result",
          "data": {
            "text/plain": [
              "BernoulliNB(binarize=1)"
            ]
          },
          "metadata": {},
          "execution_count": 38
        }
      ],
      "source": [
        "bBayesClassifier_chi = BernoulliNB(binarize = 1)\n",
        "bBayesClassifier_chi.fit(X_train_chiB, labelsTrain)"
      ]
    },
    {
      "cell_type": "code",
      "execution_count": null,
      "metadata": {
        "id": "7kHxTJrd2zq4"
      },
      "outputs": [],
      "source": [
        "# mBayesClassifier_mi = MultinomialNB()\n",
        "# mBayesClassifier_mi.fit(X_train_mi, labelsTrain)"
      ]
    },
    {
      "cell_type": "code",
      "execution_count": null,
      "metadata": {
        "id": "PrgUXhdr2zzN"
      },
      "outputs": [],
      "source": [
        "# bBayesClassifier_mi = BernoulliNB(binarize = 1)\n",
        "# bBayesClassifier_mi.fit(X_train_mi, labelsTrain)"
      ]
    },
    {
      "cell_type": "markdown",
      "metadata": {
        "id": "5kNIB5-XMd0B"
      },
      "source": [
        "## **Evaluation and Comparison of Results**"
      ]
    },
    {
      "cell_type": "code",
      "execution_count": 39,
      "metadata": {
        "id": "24xj9FpyItMy"
      },
      "outputs": [],
      "source": [
        "def precision(tp,fp):\n",
        "  return tp / (tp + fp)"
      ]
    },
    {
      "cell_type": "code",
      "execution_count": 40,
      "metadata": {
        "id": "9rKYEpR7JPHN"
      },
      "outputs": [],
      "source": [
        "def recall(tp,fn):\n",
        "  return tp / (tp + fn)"
      ]
    },
    {
      "cell_type": "code",
      "execution_count": 41,
      "metadata": {
        "id": "SVp9zxc4JVpF"
      },
      "outputs": [],
      "source": [
        "def fscore(p,r):\n",
        "  return 2*p*r/(p+r)"
      ]
    },
    {
      "cell_type": "code",
      "execution_count": 42,
      "metadata": {
        "id": "HuqVm41-nF2Q"
      },
      "outputs": [],
      "source": [
        "def getAccuracy(labelsPred, labelsTest): \n",
        "  correct = 0 \n",
        "  for i in range(len(labelsPred)): \n",
        "    if labelsPred[i] == labelsTest[i]: \n",
        "      correct += 1 \n",
        "  return correct / len(labelsPred)"
      ]
    },
    {
      "cell_type": "code",
      "execution_count": 43,
      "metadata": {
        "id": "SlaOVkUWLMxP"
      },
      "outputs": [],
      "source": [
        "def printResults(labelsPred, labelsTest):\n",
        "  tn, fp, fn, tp = confusion_matrix(labelsTest, labelsPred).ravel()\n",
        "  table = PrettyTable(['', 'Actual Positive', 'Actual Negative'])\n",
        "  table.add_row(['Predicted Positive', tp, fp])\n",
        "  table.add_row(['Predicted Negative', fn, tn])\n",
        "  p = precision(tp,fp)\n",
        "  r = recall(tp,fn)\n",
        "  f1 = fscore(p,r) \n",
        "  acc = getAccuracy(labelsPred, labelsTest)\n",
        "  print(\"CONFUSION MATRIX:\")\n",
        "  print(table)\n",
        "  print()\n",
        "  print(\"EVALUATION METRICS:\")\n",
        "  print()\n",
        "  print(\"Precision = %0.3f\" %p)\n",
        "  print(\"Recall = %0.3f\" %r)\n",
        "  print(\"F1 Score = %0.3f\" %f1) \n",
        "  print(\"Accuracy = %0.3f\" %acc) \n"
      ]
    },
    {
      "cell_type": "markdown",
      "metadata": {
        "id": "DTrAKA5xkdGI"
      },
      "source": [
        "### Predictions"
      ]
    },
    {
      "cell_type": "code",
      "execution_count": 44,
      "metadata": {
        "id": "T4_HEOHEtLp3",
        "colab": {
          "base_uri": "https://localhost:8080/"
        },
        "outputId": "03272b2d-3855-4b68-ffcc-3d688cb07c22"
      },
      "outputs": [
        {
          "output_type": "stream",
          "name": "stdout",
          "text": [
            "  (0, 177449)\t0.6642149327101898\n",
            "  (0, 101396)\t0.7475416531303108\n",
            "<class 'scipy.sparse.csr.csr_matrix'>\n"
          ]
        }
      ],
      "source": [
        "print(tweetsTestM[0])\n",
        "print(type(tweetsTestM[0]))"
      ]
    },
    {
      "cell_type": "code",
      "execution_count": 45,
      "metadata": {
        "id": "IiQt6HQGIT84"
      },
      "outputs": [],
      "source": [
        "labelsPredM = mBayesClassifier.predict(tweetsTestM)\n",
        "labelsPredB = bBayesClassifier.predict(tweetsTestB)\n"
      ]
    },
    {
      "cell_type": "code",
      "execution_count": 46,
      "metadata": {
        "id": "ti6dHLGnKJ15"
      },
      "outputs": [],
      "source": [
        "labelsPredM_chi = mBayesClassifier_chi.predict(X_test_chiM)\n",
        "labelsPredB_chi = bBayesClassifier_chi.predict(X_test_chiB)"
      ]
    },
    {
      "cell_type": "code",
      "execution_count": null,
      "metadata": {
        "id": "YUZhX-8F25EZ"
      },
      "outputs": [],
      "source": [
        "# labelsPredM_mi = mBayesClassifier_mi.predict(X_test_mi)\n",
        "# labelsPredB_mi = bBayesClassifier_mi.predict(X_test_mi)"
      ]
    },
    {
      "cell_type": "markdown",
      "metadata": {
        "id": "paI8FbGIKUJv"
      },
      "source": [
        "### **Multinomial NB**"
      ]
    },
    {
      "cell_type": "code",
      "execution_count": 47,
      "metadata": {
        "colab": {
          "base_uri": "https://localhost:8080/"
        },
        "id": "tfVwDKo3NBbE",
        "outputId": "79368cb6-5704-4ff9-9cdd-e445c20b14ef"
      },
      "outputs": [
        {
          "output_type": "stream",
          "name": "stdout",
          "text": [
            "CONFUSION MATRIX:\n",
            "+--------------------+-----------------+-----------------+\n",
            "|                    | Actual Positive | Actual Negative |\n",
            "+--------------------+-----------------+-----------------+\n",
            "| Predicted Positive |      121369     |      26370      |\n",
            "| Predicted Negative |       687       |      11574      |\n",
            "+--------------------+-----------------+-----------------+\n",
            "\n",
            "EVALUATION METRICS:\n",
            "\n",
            "Precision = 0.822\n",
            "Recall = 0.994\n",
            "F1 Score = 0.900\n",
            "Accuracy = 0.831\n"
          ]
        }
      ],
      "source": [
        "printResults(labelsPredM, labelsTest)"
      ]
    },
    {
      "cell_type": "markdown",
      "metadata": {
        "id": "2JYNYnRf4HY4"
      },
      "source": [
        "#### *Multinomial NB + Chi-Square*"
      ]
    },
    {
      "cell_type": "code",
      "execution_count": 48,
      "metadata": {
        "colab": {
          "base_uri": "https://localhost:8080/"
        },
        "id": "9yeMWdSpQIFn",
        "outputId": "1294db44-d2f4-46e8-cc8f-a552343f6293"
      },
      "outputs": [
        {
          "output_type": "stream",
          "name": "stdout",
          "text": [
            "CONFUSION MATRIX:\n",
            "+--------------------+-----------------+-----------------+\n",
            "|                    | Actual Positive | Actual Negative |\n",
            "+--------------------+-----------------+-----------------+\n",
            "| Predicted Positive |      121588     |      25053      |\n",
            "| Predicted Negative |       468       |      12891      |\n",
            "+--------------------+-----------------+-----------------+\n",
            "\n",
            "EVALUATION METRICS:\n",
            "\n",
            "Precision = 0.829\n",
            "Recall = 0.996\n",
            "F1 Score = 0.905\n",
            "Accuracy = 0.840\n"
          ]
        }
      ],
      "source": [
        "printResults(labelsPredM_chi, labelsTest)"
      ]
    },
    {
      "cell_type": "markdown",
      "metadata": {
        "id": "8mQYe1r-4wVE"
      },
      "source": [
        "#### *Multinomial NB + MI*"
      ]
    },
    {
      "cell_type": "code",
      "execution_count": 49,
      "metadata": {
        "id": "2uD_qBR_4koI"
      },
      "outputs": [],
      "source": [
        "# tn_mi, fp_mi, fn_mi, tp_mi = confusion_matrix(labelsTest, labelsPredM_mi.ravel()"
      ]
    },
    {
      "cell_type": "code",
      "execution_count": null,
      "metadata": {
        "id": "kzkym3QZ48ew"
      },
      "outputs": [],
      "source": [
        "# p_mi = precision(tp_mi,fp_mi)\n",
        "# r_mi = recall(tp_mi,fn_mi)\n",
        "# fscore_mi = fscore(p_mi,r_mi)\n",
        "# p_mi,r_mi,fscore_mi"
      ]
    },
    {
      "cell_type": "markdown",
      "metadata": {
        "id": "GkyAixowKguW"
      },
      "source": [
        "### **Bernoulli NB**"
      ]
    },
    {
      "cell_type": "code",
      "execution_count": 50,
      "metadata": {
        "colab": {
          "base_uri": "https://localhost:8080/"
        },
        "id": "CswWlpnmQeSZ",
        "outputId": "ddd4ced0-4d5b-46d5-cb95-5e3e75611347"
      },
      "outputs": [
        {
          "output_type": "stream",
          "name": "stdout",
          "text": [
            "CONFUSION MATRIX:\n",
            "+--------------------+-----------------+-----------------+\n",
            "|                    | Actual Positive | Actual Negative |\n",
            "+--------------------+-----------------+-----------------+\n",
            "| Predicted Positive |      121737     |      36958      |\n",
            "| Predicted Negative |       319       |       986       |\n",
            "+--------------------+-----------------+-----------------+\n",
            "\n",
            "EVALUATION METRICS:\n",
            "\n",
            "Precision = 0.767\n",
            "Recall = 0.997\n",
            "F1 Score = 0.867\n",
            "Accuracy = 0.767\n"
          ]
        }
      ],
      "source": [
        "printResults(labelsPredB, labelsTest)"
      ]
    },
    {
      "cell_type": "markdown",
      "metadata": {
        "id": "-S4TrsJF5vEk"
      },
      "source": [
        "#### *Bernoulli NB + Chi-Square*"
      ]
    },
    {
      "cell_type": "code",
      "execution_count": 51,
      "metadata": {
        "colab": {
          "base_uri": "https://localhost:8080/"
        },
        "id": "JgMy1xgLQlAR",
        "outputId": "e3a09ff8-5abf-4d05-c594-a598fa89bf44"
      },
      "outputs": [
        {
          "output_type": "stream",
          "name": "stdout",
          "text": [
            "CONFUSION MATRIX:\n",
            "+--------------------+-----------------+-----------------+\n",
            "|                    | Actual Positive | Actual Negative |\n",
            "+--------------------+-----------------+-----------------+\n",
            "| Predicted Positive |      121780     |      36888      |\n",
            "| Predicted Negative |       276       |       1056      |\n",
            "+--------------------+-----------------+-----------------+\n",
            "\n",
            "EVALUATION METRICS:\n",
            "\n",
            "Precision = 0.768\n",
            "Recall = 0.998\n",
            "F1 Score = 0.868\n",
            "Accuracy = 0.768\n"
          ]
        }
      ],
      "source": [
        "printResults(labelsPredB_chi, labelsTest)"
      ]
    },
    {
      "cell_type": "markdown",
      "metadata": {
        "id": "_U3cHXmd6Nc6"
      },
      "source": [
        "#### *Bernoulli NB + MI*"
      ]
    },
    {
      "cell_type": "code",
      "execution_count": null,
      "metadata": {
        "id": "4XX8b7Ia6S6m"
      },
      "outputs": [],
      "source": [
        "# tn_mi, fp_mi, fn_mi, tp_mi = confusion_matrix(labelsTest, labelsPredM_mi.ravel()\n",
        "# p_mi = precision(tp_mi,fp_mi)\n",
        "# r_mi = recall(tp_mi,fn_mi)\n",
        "# fscore_mi = fscore(p_mi,r_mi)\n",
        "# p_mi,r_mi,fscore_mi"
      ]
    },
    {
      "cell_type": "markdown",
      "metadata": {
        "id": "qP6Ihbq_0D54"
      },
      "source": [
        "## **Save Intermediate Results**"
      ]
    },
    {
      "cell_type": "code",
      "execution_count": 52,
      "metadata": {
        "id": "-8f5GLZa0j2O"
      },
      "outputs": [],
      "source": [
        "# Save modified shuffled dataframe to csv\n",
        "dataframe.to_csv('/content/gdrive/MyDrive/sentimentModifiedShuffled.csv', index = False, header = False, encoding =\"ISO-8859-1\")"
      ]
    },
    {
      "cell_type": "code",
      "execution_count": 53,
      "metadata": {
        "id": "lOqBrsZM0DHA"
      },
      "outputs": [],
      "source": [
        "# Save stop words list\n",
        "f = open('/content/gdrive/MyDrive/stopWords.txt', \"w\") \n",
        "for i in stop_words: \n",
        "  f.write(\"%s\\n\" % i)\n",
        "f.close()"
      ]
    },
    {
      "cell_type": "code",
      "execution_count": 54,
      "metadata": {
        "id": "QC-lPiQp0SLY"
      },
      "outputs": [],
      "source": [
        "# Save processed tweets \n",
        "f = open('/content/gdrive/MyDrive/processedTweets.txt', \"w\") \n",
        "for i in tweets: \n",
        "  f.write(\"%s\\n\" % i)\n",
        "f.close()"
      ]
    },
    {
      "cell_type": "code",
      "execution_count": 55,
      "metadata": {
        "id": "R7u1C39v0dKB"
      },
      "outputs": [],
      "source": [
        "# Save vocabulary \n",
        "f = open('/content/gdrive/MyDrive/vocabulary.txt', \"w\") \n",
        "A = vectorizerB.vocabulary_\n",
        "for i in A.items(): \n",
        "  f.write(\"%s %d \\n\" %(i[0], i[1]))\n",
        "f.close()"
      ]
    },
    {
      "cell_type": "code",
      "execution_count": 56,
      "metadata": {
        "id": "lmgJk-nl0zeK"
      },
      "outputs": [],
      "source": [
        "# Save vectorized tweets (tfidf and count)\n",
        "scipy.sparse.save_npz('/content/gdrive/MyDrive/tweetsM.npz', tweetsM) \n",
        "scipy.sparse.save_npz('/content/gdrive/MyDrive/tweetsB.npz', tweetsB) \n",
        "\n",
        "# To be loaded using tweets = scipy.sparse.load_npz('/content/gdrive/MyDrive/tweetsM.npz') or \n",
        "# tweets = scipy.sparse.load_npz('/content/gdrive/MyDrive/tweetsB.npz') \n",
        "# and displayed using tweets.toarray() \n",
        "# but due to the size of the data, colab crashes "
      ]
    },
    {
      "cell_type": "code",
      "execution_count": 57,
      "metadata": {
        "id": "1fL62tYj1K2B"
      },
      "outputs": [],
      "source": [
        "# Save train and test features \n",
        "scipy.sparse.save_npz('/content/gdrive/MyDrive/tweetsTrainM.npz', tweetsTrainM) \n",
        "scipy.sparse.save_npz('/content/gdrive/MyDrive/tweetsTestM.npz', tweetsTestM) \n",
        "scipy.sparse.save_npz('/content/gdrive/MyDrive/tweetsTrainB.npz', tweetsTrainB) \n",
        "scipy.sparse.save_npz('/content/gdrive/MyDrive/tweetsTestB.npz', tweetsTestB) "
      ]
    },
    {
      "cell_type": "code",
      "execution_count": 58,
      "metadata": {
        "id": "nqqPeeVO2xC9"
      },
      "outputs": [],
      "source": [
        "# Save train and test labels \n",
        "f = open('/content/gdrive/MyDrive/labelsTrain.txt', \"w\") \n",
        "for i in labelsTrain: \n",
        "  f.write(\"%d\\n\" % i)\n",
        "f.close() \n",
        "\n",
        "f = open('/content/gdrive/MyDrive/labelsTest.txt', \"w\") \n",
        "for i in labelsTest: \n",
        "  f.write(\"%d\\n\" % i)\n",
        "f.close() "
      ]
    },
    {
      "cell_type": "code",
      "execution_count": 59,
      "metadata": {
        "id": "GcU-XIVi2tP1"
      },
      "outputs": [],
      "source": [
        "# Save train and test features after chi-square feature selection \n",
        "scipy.sparse.save_npz('/content/gdrive/MyDrive/tweetsTrainMChi.npz', X_train_chiM) \n",
        "scipy.sparse.save_npz('/content/gdrive/MyDrive/tweetsTestMChi.npz', X_test_chiM) \n",
        "scipy.sparse.save_npz('/content/gdrive/MyDrive/tweetsTrainBChi.npz', X_train_chiB) \n",
        "scipy.sparse.save_npz('/content/gdrive/MyDrive/tweetsTestBChi.npz', X_test_chiB) "
      ]
    },
    {
      "cell_type": "code",
      "execution_count": 70,
      "metadata": {
        "id": "dwWSzOKI3DLL",
        "colab": {
          "base_uri": "https://localhost:8080/"
        },
        "outputId": "995a6f90-f527-4756-b9b5-0e8d5a7fc7d4"
      },
      "outputs": [
        {
          "output_type": "execute_result",
          "data": {
            "text/plain": [
              "['/content/gdrive/MyDrive/bBayesChi.joblib']"
            ]
          },
          "metadata": {},
          "execution_count": 70
        }
      ],
      "source": [
        "# Save trained classifiers \n",
        "joblib.dump(mBayesClassifier, \"/content/gdrive/MyDrive/mBayes.joblib\") \n",
        "joblib.dump(mBayesClassifier_chi, \"/content/gdrive/MyDrive/mBayesChi.joblib\") \n",
        "joblib.dump(bBayesClassifier, \"/content/gdrive/MyDrive/bBayes.joblib\") \n",
        "joblib.dump(bBayesClassifier_chi, \"/content/gdrive/MyDrive/bBayesChi.joblib\")"
      ]
    },
    {
      "cell_type": "code",
      "execution_count": null,
      "metadata": {
        "id": "5WbhGHpJ30Zx"
      },
      "outputs": [],
      "source": [
        "# f = open('/content/gdrive/MyDrive/mBayesEval.txt', 'w') \n",
        "# f.close()\n",
        "# sys.stdout = open('/content/gdrive/MyDrive/mBayesEval.txt', \"w\")\n",
        "# printResults([0, 0, 1, 1], [1, 1, 0, 1]) \n",
        "# sys.stdout.close()"
      ]
    },
    {
      "cell_type": "markdown",
      "metadata": {
        "id": "hAoN3leVfzpV"
      },
      "source": [
        "# **Prediction Tool**"
      ]
    },
    {
      "cell_type": "code",
      "execution_count": 71,
      "metadata": {
        "id": "AMw7C61CzQih"
      },
      "outputs": [],
      "source": [
        "# Load previously trained classifiers \n",
        "mBayesL = joblib.load(\"/content/gdrive/MyDrive/mBayes.joblib\") \n",
        "mBayesChiL = joblib.load(\"/content/gdrive/MyDrive/mBayesChi.joblib\") \n",
        "bBayesL = joblib.load(\"/content/gdrive/MyDrive/bBayes.joblib\") \n",
        "bBayesChiL = joblib.load(\"/content/gdrive/MyDrive/bBayesChi.joblib\") "
      ]
    },
    {
      "cell_type": "code",
      "execution_count": 79,
      "metadata": {
        "cellView": "form",
        "id": "NvboikdlfzBr",
        "colab": {
          "base_uri": "https://localhost:8080/"
        },
        "outputId": "d9c6cba5-338f-4404-ff80-ce966bbaea6e"
      },
      "outputs": [
        {
          "output_type": "stream",
          "name": "stdout",
          "text": [
            "The stemmed tweet: ( ['love'] ) is a...\n",
            "\n",
            "POSITIVE Tweet! :)\n"
          ]
        }
      ],
      "source": [
        "#@title Tweet Something! { run: \"auto\", vertical-output: true }\n",
        "Tweet = \"@abc I love dogs\" #@param {type:\"string\"}\n",
        "Naive_Bayes_Model = \"Bernoulli NB\" #@param [\"Multinomial NB\", \"Bernoulli NB\"]\n",
        "Feature_Selection = \"Chi-Square\" #@param [\"Chi-Square\", \"None\"]\n",
        "\n",
        "label = -1\n",
        "\n",
        "tweet = preprocess([Tweet], stem = False)\n",
        "if (Naive_Bayes_Model == \"Multinomial NB\"): \n",
        "  vector = vectorizerM.transform(tweet) \n",
        "else: \n",
        "  vector = vectorizerB.transform(tweet) \n",
        "print(\"The stemmed tweet: (\", tweet, \") is a...\")\n",
        "print()\n",
        "\n",
        "# Chi-Squared\n",
        "if(Feature_Selection == \"Chi-Square\"):\n",
        "  vector_reduced = chi2_features.transform(vector)\n",
        "  if(Naive_Bayes_Model == \"Bernoulli NB\"):\n",
        "    label = bBayesChiL.predict(vector_reduced)\n",
        "  elif(Naive_Bayes_Model == \"Multinomial NB\"):\n",
        "    label = mBayesChiL.predict(vector_reduced)\n",
        "\n",
        "# No Feature Selection\n",
        "if(Feature_Selection == \"None\"):\n",
        "  if(Naive_Bayes_Model == \"Bernoulli NB\"):\n",
        "    label = bBayesL.predict(vector)\n",
        "  elif(Naive_Bayes_Model == \"Multinomial NB\"):\n",
        "    label = mBayesL.predict(vector)\n",
        "\n",
        "# Print Output\n",
        "if label == 1:\n",
        "  print(\"POSITIVE Tweet! :)\")\n",
        "elif label == 0:\n",
        "  print(\"NEGATIVE Tweet :(\")\n",
        "else:\n",
        "  print(\"Oops! Something went wrong...\")"
      ]
    },
    {
      "cell_type": "code",
      "execution_count": null,
      "metadata": {
        "id": "dJ1KEZRUxSUQ"
      },
      "outputs": [],
      "source": [
        ""
      ]
    }
  ],
  "metadata": {
    "colab": {
      "collapsed_sections": [
        "D5zx0D0OhGEw",
        "GkyAixowKguW"
      ],
      "name": "IR-Sentiment Analysis.ipynb",
      "provenance": []
    },
    "kernelspec": {
      "display_name": "Python 3",
      "name": "python3"
    },
    "language_info": {
      "name": "python"
    }
  },
  "nbformat": 4,
  "nbformat_minor": 0
}